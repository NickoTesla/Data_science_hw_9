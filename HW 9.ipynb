{
  "nbformat": 4,
  "nbformat_minor": 0,
  "metadata": {
    "colab": {
      "provenance": []
    },
    "kernelspec": {
      "name": "python3",
      "display_name": "Python 3"
    },
    "language_info": {
      "name": "python"
    }
  },
  "cells": [
    {
      "cell_type": "code",
      "execution_count": 1,
      "metadata": {
        "id": "PkJd9jJIRMVN"
      },
      "outputs": [],
      "source": [
        "import tensorflow as tf\n",
        "from tensorflow.keras import layers, models\n",
        "from tensorflow.keras.datasets import fashion_mnist\n",
        "from tensorflow.keras.utils import to_categorical"
      ]
    },
    {
      "cell_type": "code",
      "source": [
        "(train_images, train_labels), (test_images, test_labels) = fashion_mnist.load_data()\n",
        "train_images = train_images.reshape((60000, 28, 28, 1)).astype('float32') / 255\n",
        "test_images = test_images.reshape((10000, 28, 28, 1)).astype('float32') / 255\n",
        "train_labels = to_categorical(train_labels)\n",
        "test_labels = to_categorical(test_labels)"
      ],
      "metadata": {
        "colab": {
          "base_uri": "https://localhost:8080/"
        },
        "id": "P8LA3JCMR33H",
        "outputId": "7e7623dd-9de1-4da3-b734-b81c3f4e2f13"
      },
      "execution_count": 2,
      "outputs": [
        {
          "output_type": "stream",
          "name": "stdout",
          "text": [
            "Downloading data from https://storage.googleapis.com/tensorflow/tf-keras-datasets/train-labels-idx1-ubyte.gz\n",
            "29515/29515 [==============================] - 0s 1us/step\n",
            "Downloading data from https://storage.googleapis.com/tensorflow/tf-keras-datasets/train-images-idx3-ubyte.gz\n",
            "26421880/26421880 [==============================] - 2s 0us/step\n",
            "Downloading data from https://storage.googleapis.com/tensorflow/tf-keras-datasets/t10k-labels-idx1-ubyte.gz\n",
            "5148/5148 [==============================] - 0s 0us/step\n",
            "Downloading data from https://storage.googleapis.com/tensorflow/tf-keras-datasets/t10k-images-idx3-ubyte.gz\n",
            "4422102/4422102 [==============================] - 1s 0us/step\n"
          ]
        }
      ]
    },
    {
      "cell_type": "code",
      "source": [
        "model = models.Sequential()\n",
        "model.add(layers.Conv2D(32, (3, 3), activation='relu', input_shape=(28, 28, 1)))\n",
        "model.add(layers.MaxPooling2D((2, 2)))\n",
        "model.add(layers.Conv2D(64, (3, 3), activation='relu'))\n",
        "model.add(layers.MaxPooling2D((2, 2)))\n",
        "model.add(layers.Conv2D(64, (3, 3), activation='relu'))\n",
        "model.add(layers.Flatten())\n",
        "model.add(layers.Dense(64, activation='relu'))\n",
        "model.add(layers.Dense(10, activation='softmax'))\n"
      ],
      "metadata": {
        "id": "alLOEyicSFvG"
      },
      "execution_count": 3,
      "outputs": []
    },
    {
      "cell_type": "code",
      "source": [
        "model.compile(optimizer='adam',\n",
        "              loss='categorical_crossentropy',\n",
        "              metrics=['accuracy'])"
      ],
      "metadata": {
        "id": "GVGyOVLRSPLu"
      },
      "execution_count": 4,
      "outputs": []
    },
    {
      "cell_type": "code",
      "source": [
        "history = model.fit(train_images, train_labels, epochs=10, batch_size=64, validation_split=0.2)"
      ],
      "metadata": {
        "colab": {
          "base_uri": "https://localhost:8080/"
        },
        "id": "AkP83zT2SUIx",
        "outputId": "dfbf0352-35fc-44fd-817f-273161fff33a"
      },
      "execution_count": 5,
      "outputs": [
        {
          "output_type": "stream",
          "name": "stdout",
          "text": [
            "Epoch 1/10\n",
            "750/750 [==============================] - 51s 67ms/step - loss: 0.5926 - accuracy: 0.7814 - val_loss: 0.4069 - val_accuracy: 0.8533\n",
            "Epoch 2/10\n",
            "750/750 [==============================] - 46s 62ms/step - loss: 0.3647 - accuracy: 0.8695 - val_loss: 0.3387 - val_accuracy: 0.8733\n",
            "Epoch 3/10\n",
            "750/750 [==============================] - 49s 66ms/step - loss: 0.3097 - accuracy: 0.8868 - val_loss: 0.2972 - val_accuracy: 0.8918\n",
            "Epoch 4/10\n",
            "750/750 [==============================] - 47s 62ms/step - loss: 0.2785 - accuracy: 0.8979 - val_loss: 0.2824 - val_accuracy: 0.8980\n",
            "Epoch 5/10\n",
            "750/750 [==============================] - 47s 63ms/step - loss: 0.2536 - accuracy: 0.9078 - val_loss: 0.3092 - val_accuracy: 0.8869\n",
            "Epoch 6/10\n",
            "750/750 [==============================] - 48s 63ms/step - loss: 0.2377 - accuracy: 0.9129 - val_loss: 0.2738 - val_accuracy: 0.8992\n",
            "Epoch 7/10\n",
            "750/750 [==============================] - 48s 65ms/step - loss: 0.2206 - accuracy: 0.9191 - val_loss: 0.2619 - val_accuracy: 0.9046\n",
            "Epoch 8/10\n",
            "750/750 [==============================] - 46s 62ms/step - loss: 0.2023 - accuracy: 0.9254 - val_loss: 0.2609 - val_accuracy: 0.9030\n",
            "Epoch 9/10\n",
            "750/750 [==============================] - 46s 62ms/step - loss: 0.1873 - accuracy: 0.9298 - val_loss: 0.2645 - val_accuracy: 0.9072\n",
            "Epoch 10/10\n",
            "750/750 [==============================] - 47s 62ms/step - loss: 0.1753 - accuracy: 0.9345 - val_loss: 0.2488 - val_accuracy: 0.9087\n"
          ]
        }
      ]
    },
    {
      "cell_type": "code",
      "source": [
        "test_loss, test_acc = model.evaluate(test_images, test_labels)\n",
        "print(f'Test accuracy: {test_acc}')"
      ],
      "metadata": {
        "colab": {
          "base_uri": "https://localhost:8080/"
        },
        "id": "T0h2ZzM-SbWR",
        "outputId": "483fe84c-a3a1-4b71-df32-e3e25f2f58de"
      },
      "execution_count": 6,
      "outputs": [
        {
          "output_type": "stream",
          "name": "stdout",
          "text": [
            "313/313 [==============================] - 4s 13ms/step - loss: 0.2594 - accuracy: 0.9071\n",
            "Test accuracy: 0.9071000218391418\n"
          ]
        }
      ]
    }
  ]
}